{
 "cells": [
  {
   "cell_type": "code",
   "execution_count": 8,
   "metadata": {},
   "outputs": [],
   "source": [
    "import numpy as np\n",
    "import matplotlib.pyplot as plt\n",
    "import math\n",
    "import cv2\n",
    "import os"
   ]
  },
  {
   "cell_type": "code",
   "execution_count": 12,
   "metadata": {},
   "outputs": [],
   "source": [
    "x_ions = []\n",
    "with open ('fi.txt') as data:\n",
    "    for line in data:\n",
    "        x_ions.append(line.split())\n",
    "        #x_ions = x_ions.astype(np.float64)\n",
    "    #print(type(data))\n",
    "x_ions = np.array(x_ions).astype(np.float64)\n",
    "#x_ions *= (-1)\n",
    "\n",
    "#print(len(x_ions[3]))"
   ]
  },
  {
   "cell_type": "code",
   "execution_count": 6,
   "metadata": {},
   "outputs": [
    {
     "name": "stdout",
     "output_type": "stream",
     "text": [
      "290\n",
      "250\n"
     ]
    }
   ],
   "source": [
    "print(len(line))\n",
    "print(len(np.arange(250)))"
   ]
  },
  {
   "cell_type": "code",
   "execution_count": 13,
   "metadata": {},
   "outputs": [],
   "source": [
    "\n",
    "i = 0\n",
    "for line in x_ions:\n",
    "    plt.figure()\n",
    "    plt.ylim(x_ions.min(), x_ions.max())\n",
    "    plt.bar(np.arange(len(line)), line)\n",
    "    plt.savefig(f'fi_{i}')\n",
    "    plt.close()\n",
    "    i += 1\n",
    "    #break"
   ]
  },
  {
   "cell_type": "code",
   "execution_count": 14,
   "metadata": {},
   "outputs": [
    {
     "name": "stdout",
     "output_type": "stream",
     "text": [
      "Видео успешно создано: fi.avi\n"
     ]
    }
   ],
   "source": [
    "# Параметры\n",
    "image_folder = '.'  # Папка с изображениями (текущая папка)\n",
    "output_video = 'fi.avi'  # Имя выходного видеофайла\n",
    "fps = 4  # Частота кадров (можно настроить по своему усмотрению)\n",
    "\n",
    "# Список файлов изображений\n",
    "image_files = [f for f in os.listdir(image_folder) if f.startswith('fi_') and f.endswith('.png')]\n",
    "\n",
    "# Сортировка файлов по номеру\n",
    "image_files.sort(key=lambda f: int(f.split('_')[1].split('.')[0]))\n",
    "\n",
    "# Прочитаем первое изображение для определения размера\n",
    "first_image = cv2.imread(os.path.join(image_folder, image_files[0]))\n",
    "height, width, _ = first_image.shape\n",
    "\n",
    "# Создаем объект для записи видео\n",
    "fourcc = cv2.VideoWriter_fourcc(*'XVID')  # Кодек для AVI\n",
    "video_writer = cv2.VideoWriter(output_video, fourcc, fps, (width, height))\n",
    "\n",
    "# Добавляем изображения в видео\n",
    "for image_file in image_files:\n",
    "    image_path = os.path.join(image_folder, image_file)\n",
    "    image = cv2.imread(image_path)\n",
    "    video_writer.write(image)\n",
    "\n",
    "# Освобождаем ресурсы\n",
    "video_writer.release()\n",
    "\n",
    "print(f\"Видео успешно создано: {output_video}\")"
   ]
  }
 ],
 "metadata": {
  "kernelspec": {
   "display_name": "Python 3",
   "language": "python",
   "name": "python3"
  },
  "language_info": {
   "codemirror_mode": {
    "name": "ipython",
    "version": 3
   },
   "file_extension": ".py",
   "mimetype": "text/x-python",
   "name": "python",
   "nbconvert_exporter": "python",
   "pygments_lexer": "ipython3",
   "version": "3.10.0"
  }
 },
 "nbformat": 4,
 "nbformat_minor": 2
}
