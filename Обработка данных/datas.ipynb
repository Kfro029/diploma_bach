{
 "cells": [
  {
   "cell_type": "code",
   "execution_count": 1,
   "metadata": {},
   "outputs": [],
   "source": [
    "import numpy as np\n",
    "import matplotlib.pyplot as plt\n",
    "import math\n",
    "import cv2\n",
    "import os"
   ]
  },
  {
   "cell_type": "code",
   "execution_count": 2,
   "metadata": {},
   "outputs": [],
   "source": [
    "x_ions = []\n",
    "with open ('rho_ions.txt') as data:\n",
    "    for line in data:\n",
    "        x_ions.append(line.split())\n",
    "        #x_ions = x_ions.astype(np.float64)\n",
    "    #print(type(data))\n",
    "x_ions = np.array(x_ions).astype(np.float64)\n",
    "#x_ions *= (-1)\n",
    "x_el = []\n",
    "with open ('rho_el.txt') as data:\n",
    "    for line in data:\n",
    "        x_el.append(line.split())\n",
    "        #x_ions = x_ions.astype(np.float64)\n",
    "    #print(type(data))\n",
    "x_el = np.array(x_el).astype(np.float64)\n",
    "x_ions *= (-1)\n",
    "\n",
    "\n",
    "#print(len(x_ions[3]))"
   ]
  },
  {
   "cell_type": "code",
   "execution_count": 3,
   "metadata": {},
   "outputs": [
    {
     "name": "stdout",
     "output_type": "stream",
     "text": [
      "11904\n",
      "250\n"
     ]
    }
   ],
   "source": [
    "print(len(line))\n",
    "print(len(np.arange(250)))"
   ]
  },
  {
   "cell_type": "code",
   "execution_count": 4,
   "metadata": {},
   "outputs": [],
   "source": [
    "\n",
    "i = 0\n",
    "for i in range(len(x_ions)):\n",
    "    plt.figure()\n",
    "    plt.title('rho')\n",
    "    plt.ylim(min(x_el.min(), x_ions.min()), max(x_el.max(), x_ions.max()))\n",
    "    plt.bar(np.arange(len(x_el[0])), x_el[i], alpha = 0.5)\n",
    "    plt.bar(np.arange(len(x_el[0])), x_ions[i], alpha = 0.3)\n",
    "    plt.savefig(f'rho_{i}')\n",
    "    plt.close()\n",
    "    #i += 1\n",
    "    #break"
   ]
  },
  {
   "cell_type": "code",
   "execution_count": 6,
   "metadata": {},
   "outputs": [
    {
     "name": "stdout",
     "output_type": "stream",
     "text": [
      "Видео успешно создано: !_rho_0,5e-12_ne17_5fps.avi\n"
     ]
    }
   ],
   "source": [
    "# Параметры\n",
    "image_folder = '.'  # Папка с изображениями (текущая папка)\n",
    "output_video = '!_rho_0,5e-12_ne17_5fps.avi'  # Имя выходного видеофайла\n",
    "fps = 5  # Частота кадров (можно настроить по своему усмотрению)\n",
    "\n",
    "# Список файлов изображений\n",
    "image_files = [f for f in os.listdir(image_folder) if f.startswith('rho_') and f.endswith('.png')]\n",
    "\n",
    "# Сортировка файлов по номеру\n",
    "image_files.sort(key=lambda f: int(f.split('_')[1].split('.')[0]))\n",
    "\n",
    "# Прочитаем первое изображение для определения размера\n",
    "first_image = cv2.imread(os.path.join(image_folder, image_files[0]))\n",
    "height, width, _ = first_image.shape\n",
    "\n",
    "# Создаем объект для записи видео\n",
    "fourcc = cv2.VideoWriter_fourcc(*'XVID')  # Кодек для AVI\n",
    "video_writer = cv2.VideoWriter(output_video, fourcc, fps, (width, height))\n",
    "\n",
    "# Добавляем изображения в видео\n",
    "for image_file in image_files:\n",
    "    image_path = os.path.join(image_folder, image_file)\n",
    "    image = cv2.imread(image_path)\n",
    "    video_writer.write(image)\n",
    "\n",
    "# Освобождаем ресурсы\n",
    "video_writer.release()\n",
    "\n",
    "print(f\"Видео успешно создано: {output_video}\")"
   ]
  }
 ],
 "metadata": {
  "kernelspec": {
   "display_name": "Python 3",
   "language": "python",
   "name": "python3"
  },
  "language_info": {
   "codemirror_mode": {
    "name": "ipython",
    "version": 3
   },
   "file_extension": ".py",
   "mimetype": "text/x-python",
   "name": "python",
   "nbconvert_exporter": "python",
   "pygments_lexer": "ipython3",
   "version": "3.10.0"
  }
 },
 "nbformat": 4,
 "nbformat_minor": 2
}
